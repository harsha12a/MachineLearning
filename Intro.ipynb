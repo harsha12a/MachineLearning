{
 "cells": [
  {
   "cell_type": "code",
   "execution_count": null,
   "id": "5258b5f0-1f45-4176-8624-ea4196f1097f",
   "metadata": {
    "id": "5258b5f0-1f45-4176-8624-ea4196f1097f",
    "outputId": "9fef4109-c5fe-4b12-e945-dc2d739d4174"
   },
   "outputs": [
    {
     "name": "stdout",
     "output_type": "stream",
     "text": [
      "red\n",
      "###\n",
      "\n",
      "12\n",
      "a\n",
      "34.4\n",
      "###\n",
      "\n",
      "[[3, 0, 0], [0, 0, 0], [0, 0, 0]]\n",
      "###\n",
      "\n",
      "2/3/4 abraca dabra"
     ]
    }
   ],
   "source": [
    "#sample print\n",
    "print('red')\n",
    "print('###\\n')\n",
    "\n",
    "#print an arr\n",
    "a = [12,'a',34.4]\n",
    "for i in a:\n",
    "    print(i)\n",
    "print('###\\n')\n",
    "\n",
    "#print a matrix\n",
    "a= [[0]*3 for _ in range(3)]\n",
    "a[0][0]=3\n",
    "print(a)\n",
    "print('###\\n')\n",
    "\n",
    "print(2,3,4,sep=\"/\",end=\" abraca dabra\")"
   ]
  },
  {
   "cell_type": "code",
   "execution_count": null,
   "id": "2d7694b4-5f12-4cd8-96b1-7c97cebf9c44",
   "metadata": {
    "id": "2d7694b4-5f12-4cd8-96b1-7c97cebf9c44",
    "outputId": "0cf96595-cd50-410f-eb34-9e6b4ed0631a"
   },
   "outputs": [
    {
     "name": "stdout",
     "output_type": "stream",
     "text": [
      "(1, 2) 1 2\n",
      "[1, 2]\n"
     ]
    }
   ],
   "source": [
    "a = b, c = 1, 2\n",
    "print(a,b,c)\n",
    "\n",
    "print(list(a))"
   ]
  },
  {
   "cell_type": "code",
   "execution_count": null,
   "id": "dcf1df11-30f8-43ce-b85e-bff9af493bec",
   "metadata": {
    "id": "dcf1df11-30f8-43ce-b85e-bff9af493bec",
    "outputId": "57f4a07d-c420-42f8-e51a-2da85eacaa58"
   },
   "outputs": [
    {
     "name": "stdout",
     "output_type": "stream",
     "text": [
      "Enter string red\n"
     ]
    },
    {
     "name": "stdout",
     "output_type": "stream",
     "text": [
      "String is  red <class 'str'>\n"
     ]
    },
    {
     "name": "stdout",
     "output_type": "stream",
     "text": [
      "Enter number 12\n"
     ]
    },
    {
     "name": "stdout",
     "output_type": "stream",
     "text": [
      "Number is  12 <class 'int'>\n"
     ]
    },
    {
     "name": "stdout",
     "output_type": "stream",
     "text": [
      "Enter decimal 12\n"
     ]
    },
    {
     "name": "stdout",
     "output_type": "stream",
     "text": [
      "Number is  12.0 <class 'float'>\n"
     ]
    },
    {
     "name": "stdout",
     "output_type": "stream",
     "text": [
      "Enter complex 1+2j\n"
     ]
    },
    {
     "name": "stdout",
     "output_type": "stream",
     "text": [
      "Number is  (1+2j) <class 'complex'>\n"
     ]
    }
   ],
   "source": [
    "a = input('Enter string')\n",
    "print('String is ',a,type(a))\n",
    "b = int(input('Enter number'))\n",
    "print('Number is ',b,type(b))\n",
    "c = float(input('Enter decimal'))\n",
    "print('Number is ',c,type(c))\n",
    "d = complex(input('Enter complex'))\n",
    "print('Number is ',d,type(d))"
   ]
  },
  {
   "cell_type": "code",
   "execution_count": null,
   "id": "6dbb243d-b6f5-44ff-91f4-b8b736eca69e",
   "metadata": {
    "id": "6dbb243d-b6f5-44ff-91f4-b8b736eca69e",
    "outputId": "cf403cfb-396b-4414-a301-aa62131237ea"
   },
   "outputs": [
    {
     "name": "stdout",
     "output_type": "stream",
     "text": [
      "Hello World\n",
      "Hello WorldHello World\n",
      "Hello World this append 🔥\n",
      "loWrd\n",
      "[start, end, increment_by]\n"
     ]
    }
   ],
   "source": [
    "a = 'Hello World'\n",
    "print(a)\n",
    "print(a*2)\n",
    "print(a+' this append 🔥')\n",
    "print(a[2::2])\n",
    "print('[start, end, increment_by]')"
   ]
  },
  {
   "cell_type": "code",
   "execution_count": null,
   "id": "a616de6d-e484-4c8f-afd6-e2e59f989bf1",
   "metadata": {
    "id": "a616de6d-e484-4c8f-afd6-e2e59f989bf1",
    "outputId": "9f65201d-3b21-40af-d172-716c0dcf3819"
   },
   "outputs": [
    {
     "name": "stdout",
     "output_type": "stream",
     "text": [
      "Enter a string to manipulate hello\n"
     ]
    },
    {
     "name": "stdout",
     "output_type": "stream",
     "text": [
      "Traditional method olleh\n",
      "\n",
      "With slicing\n",
      "olleh\n",
      "olleh\n"
     ]
    }
   ],
   "source": [
    "string = input('Enter a string to manipulate')\n",
    "#traditional\n",
    "res=''\n",
    "for i in range(len(string)-1,-1,-1):\n",
    "    res+=string[i]\n",
    "print('Traditional method',res,end='\\n\\n')\n",
    "\n",
    "#slicing\n",
    "print('With slicing')\n",
    "print(string[len(string):0:-1]+string[0])\n",
    "print(string[::-1])"
   ]
  },
  {
   "cell_type": "code",
   "execution_count": null,
   "id": "09a458fb-7400-4d26-81d9-0f64e6d4052b",
   "metadata": {
    "id": "09a458fb-7400-4d26-81d9-0f64e6d4052b",
    "outputId": "12f01326-72d2-49af-a411-ba65cb2cfbb2"
   },
   "outputs": [
    {
     "name": "stdout",
     "output_type": "stream",
     "text": [
      "slicing works for list, tuple too\n",
      "[4, 3, 2, 1]\n",
      "(6, 5)\n",
      "indexing not work for <class 'dict'>\n",
      "{3: 'red', 4: 'blue', 5: 'white'}\n"
     ]
    }
   ],
   "source": [
    "a = [1,2,3]\n",
    "print('slicing works for list, tuple too')\n",
    "a.append(4)\n",
    "print(a[::-1])\n",
    "b = (4,5,6)\n",
    "print(b[3:0:-1])\n",
    "c = {3:'red', 4:'blue'}\n",
    "# c[5] = 'white'\n",
    "c.update({5:'white'})\n",
    "print('indexing not work for',type(c))\n",
    "print(c)"
   ]
  },
  {
   "cell_type": "code",
   "execution_count": null,
   "id": "e2a3019f-b058-48fe-a757-fe4a61b78b92",
   "metadata": {
    "id": "e2a3019f-b058-48fe-a757-fe4a61b78b92",
    "outputId": "1ad17424-b2fe-4aac-d2e6-cd98351c776d"
   },
   "outputs": [
    {
     "name": "stdout",
     "output_type": "stream",
     "text": [
      "(4, 5, 6)\n",
      "(1, 2, 3)\n"
     ]
    },
    {
     "ename": "TypeError",
     "evalue": "'tuple' object does not support item assignment",
     "output_type": "error",
     "traceback": [
      "\u001b[0;31m---------------------------------------------------------------------------\u001b[0m",
      "\u001b[0;31mTypeError\u001b[0m                                 Traceback (most recent call last)",
      "Cell \u001b[0;32mIn[254], line 5\u001b[0m\n\u001b[1;32m      3\u001b[0m b \u001b[38;5;241m=\u001b[39m (\u001b[38;5;241m1\u001b[39m,\u001b[38;5;241m2\u001b[39m,\u001b[38;5;241m3\u001b[39m)\n\u001b[1;32m      4\u001b[0m \u001b[38;5;28mprint\u001b[39m(b)\n\u001b[0;32m----> 5\u001b[0m b[\u001b[38;5;241m0\u001b[39m] \u001b[38;5;241m=\u001b[39m \u001b[38;5;241m0\u001b[39m\n\u001b[1;32m      6\u001b[0m \u001b[38;5;28mprint\u001b[39m(b)\n",
      "\u001b[0;31mTypeError\u001b[0m: 'tuple' object does not support item assignment"
     ]
    }
   ],
   "source": [
    "b = (4,5,6)\n",
    "print(b)\n",
    "b = (1,2,3)\n",
    "print(b)\n",
    "b[0] = 0\n",
    "print(b)"
   ]
  },
  {
   "cell_type": "code",
   "execution_count": null,
   "id": "4de71d91-a2d1-4de9-a70f-269571f4ae7e",
   "metadata": {
    "id": "4de71d91-a2d1-4de9-a70f-269571f4ae7e",
    "outputId": "5d4fba2e-0dc3-4f3a-826e-779a8d7c4036"
   },
   "outputs": [
    {
     "name": "stdout",
     "output_type": "stream",
     "text": [
      "key  value\n",
      "3    red\n",
      "4    blue\n",
      "5    white\n"
     ]
    }
   ],
   "source": [
    "c = {3:'red', 4:'blue'}\n",
    "# c[5] = 'white'\n",
    "c.update({5:'white'})\n",
    "print('key  value')\n",
    "for i in c:\n",
    "    print(i, '  ', c[i])"
   ]
  },
  {
   "cell_type": "code",
   "execution_count": null,
   "id": "bb5cbbf2-d369-40ed-a0e5-2123d740fdd9",
   "metadata": {
    "id": "bb5cbbf2-d369-40ed-a0e5-2123d740fdd9",
    "outputId": "02f0625c-0e1e-4e50-b9b4-a658d85f6750"
   },
   "outputs": [
    {
     "name": "stdout",
     "output_type": "stream",
     "text": [
      "Sum is 15\n",
      "Length is 5\n",
      "Absolute of -34.5 :  34.5\n",
      "Round of -34.1556 :  -34\n",
      "log10(10) 1.0\n"
     ]
    }
   ],
   "source": [
    "a = [1, 2, 3, 4, 5]\n",
    "print('Sum is',sum(a))\n",
    "print('Length is',len(a))\n",
    "print('Absolute of -34.5 : ',abs(-34.5))\n",
    "print('Round of -34.1556 : ',round(-34.1556))\n",
    "import math as m\n",
    "print('log10(10)',m.log10(10))"
   ]
  },
  {
   "cell_type": "code",
   "execution_count": null,
   "id": "df82c629-58bf-4c09-8d23-36879d9db439",
   "metadata": {
    "id": "df82c629-58bf-4c09-8d23-36879d9db439",
    "outputId": "dc4e9c2f-d2c7-4929-e360-4117148d4275"
   },
   "outputs": [
    {
     "name": "stdout",
     "output_type": "stream",
     "text": [
      "12\n"
     ]
    }
   ],
   "source": [
    "def area(len, wid):\n",
    "    return len*wid;\n",
    "\n",
    "print(area(3,4))"
   ]
  },
  {
   "cell_type": "code",
   "execution_count": null,
   "id": "02a254d0-79a7-4a2e-a012-bcf3d484a9ba",
   "metadata": {
    "id": "02a254d0-79a7-4a2e-a012-bcf3d484a9ba",
    "outputId": "caf5c5c9-a49a-44c1-b6f2-af30fd78ed68"
   },
   "outputs": [
    {
     "name": "stdout",
     "output_type": "stream",
     "text": [
      "[6 5 4]\n",
      "[1 4]\n"
     ]
    }
   ],
   "source": [
    "import numpy as np\n",
    "a = np.array([[1,2,3],[4,5,6]])\n",
    "# print(a+[5,2,3])\n",
    "print(a[1,::-1])\n",
    "print(a[:,0])"
   ]
  },
  {
   "cell_type": "code",
   "execution_count": null,
   "id": "adb6de3c-aebf-41eb-bbb1-775da07ff237",
   "metadata": {
    "id": "adb6de3c-aebf-41eb-bbb1-775da07ff237",
    "outputId": "c706a9a8-d394-4b18-8f0e-633766f162b6"
   },
   "outputs": [
    {
     "data": {
      "text/plain": [
       "array([[1., 1., 1.],\n",
       "       [1., 1., 1.],\n",
       "       [1., 1., 1.]])"
      ]
     },
     "execution_count": 338,
     "metadata": {},
     "output_type": "execute_result"
    }
   ],
   "source": [
    "np.ones((3,3))"
   ]
  },
  {
   "cell_type": "code",
   "execution_count": null,
   "id": "d8af0cea-d98b-4eb4-8f4f-b534f8d962ca",
   "metadata": {
    "id": "d8af0cea-d98b-4eb4-8f4f-b534f8d962ca",
    "outputId": "48dbe5b8-6d17-4507-903e-8078135dc303"
   },
   "outputs": [
    {
     "name": "stdout",
     "output_type": "stream",
     "text": [
      "Dimensions 2\n",
      "Size 6\n",
      "Shape (2, 3)\n",
      "Average 3.5\n",
      "Max of axis 1 [3 6]\n",
      "Min of axis 0 [1 2 3]\n",
      "Diagonal [1 5]\n"
     ]
    }
   ],
   "source": [
    "print(\"Dimensions\",a.ndim)\n",
    "print(\"Size\",a.size)\n",
    "print(\"Shape\",a.shape)\n",
    "print(\"Average\",np.mean(a))\n",
    "print(\"Max of axis 1\",np.max(a,axis=1))\n",
    "print(\"Min of axis 0\",np.min(a,axis=0))\n",
    "print(\"Diagonal\",a.diagonal())"
   ]
  },
  {
   "cell_type": "code",
   "execution_count": null,
   "id": "3f61c58a-d9fe-4f1f-9168-b6c2a0423d44",
   "metadata": {
    "id": "3f61c58a-d9fe-4f1f-9168-b6c2a0423d44",
    "outputId": "264f82ff-8816-4e0d-a7dc-62b861478820"
   },
   "outputs": [
    {
     "name": "stdout",
     "output_type": "stream",
     "text": [
      "[[ 8 10 12]\n",
      " [ 5  7  9]]\n",
      "[[ 7 16 27]\n",
      " [ 4 10 18]]\n"
     ]
    }
   ],
   "source": [
    "a = np.array([[1,2,3],[4,5,6]])\n",
    "b = np.array([[7,8,9],[1,2,3]])\n",
    "print(np.add(a,b))\n",
    "print(np.multiply(a,b))"
   ]
  },
  {
   "cell_type": "code",
   "execution_count": null,
   "id": "4c263dc9-633e-4cd7-ab32-0bd5308f7358",
   "metadata": {
    "id": "4c263dc9-633e-4cd7-ab32-0bd5308f7358",
    "outputId": "569e811e-94a1-4600-ef72-00741da48fc7"
   },
   "outputs": [
    {
     "name": "stdout",
     "output_type": "stream",
     "text": [
      "Flatten [1 2 3 4 5 6]\n",
      "Transpose [[1 4]\n",
      " [2 5]\n",
      " [3 6]]\n",
      "Reshape [[1]\n",
      " [2]\n",
      " [3]\n",
      " [4]\n",
      " [5]\n",
      " [6]]\n"
     ]
    }
   ],
   "source": [
    "a = np.array([[1,2,3],[4,5,6]])\n",
    "print(\"Flatten\",a.flatten())\n",
    "print(\"Transpose\",a.T)\n",
    "print(\"Reshape\",a.reshape(6,1))"
   ]
  }
 ],
 "metadata": {
  "colab": {
   "provenance": []
  },
  "kernelspec": {
   "display_name": "Python 3",
   "language": "python",
   "name": "python3"
  },
  "language_info": {
   "codemirror_mode": {
    "name": "ipython",
    "version": 3
   },
   "file_extension": ".py",
   "mimetype": "text/x-python",
   "name": "python",
   "nbconvert_exporter": "python",
   "pygments_lexer": "ipython3",
   "version": "3.10.11"
  }
 },
 "nbformat": 4,
 "nbformat_minor": 5
}
