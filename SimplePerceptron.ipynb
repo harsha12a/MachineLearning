{
 "cells": [
  {
   "cell_type": "code",
   "execution_count": 1,
   "metadata": {},
   "outputs": [],
   "source": [
    "import pandas as pd\n",
    "import matplotlib.pyplot as plt\n",
    "import numpy as np"
   ]
  },
  {
   "cell_type": "code",
   "execution_count": 2,
   "metadata": {},
   "outputs": [],
   "source": [
    "features = np.array([[0, 0], [0, 1], [1, 0], [1, 1]])\n",
    "labels = np.array([0, 1, 1, 1])"
   ]
  },
  {
   "cell_type": "code",
   "execution_count": 9,
   "metadata": {},
   "outputs": [],
   "source": [
    "epochs = int(input(\"Enter number of epochs: \"))\n",
    "thres = float(input(\"Enter threshold: \"))\n",
    "learning_rate = float(input(\"Enter learning rate: \"))\n",
    "w = np.array([\n",
    "    float(input(\"Enter weight 1: \")),\n",
    "    float(input(\"Enter weight 2: \"))\n",
    "])"
   ]
  },
  {
   "cell_type": "code",
   "execution_count": 10,
   "metadata": {},
   "outputs": [
    {
     "name": "stdout",
     "output_type": "stream",
     "text": [
      "epoch 1\n",
      "actual 0 pred 0 delta 0\n",
      "actual 1 pred 0 delta 1\n",
      "actual 1 pred 1 delta 0\n",
      "actual 1 pred 1 delta 0\n",
      "---------------------------------\n",
      "epoch 2\n",
      "actual 0 pred 0 delta 0\n",
      "actual 1 pred 0 delta 1\n",
      "actual 1 pred 1 delta 0\n",
      "actual 1 pred 1 delta 0\n",
      "---------------------------------\n",
      "epoch 3\n",
      "actual 0 pred 0 delta 0\n",
      "actual 1 pred 1 delta 0\n",
      "actual 1 pred 1 delta 0\n",
      "actual 1 pred 1 delta 0\n",
      "---------------------------------\n",
      "[0.4 0.1]\n"
     ]
    }
   ],
   "source": [
    "for j in range(epochs):\n",
    "    print('epoch', j+1)\n",
    "    global_delta = 0\n",
    "    for i in range(len(features)):\n",
    "        actual = labels[i]\n",
    "        x0 = features[i][0]\n",
    "        x1 = features[i][1]\n",
    "        sum_curr = x0*w[0] + x1*w[1]\n",
    "        if sum_curr > thres:\n",
    "            pred = 1\n",
    "        else:\n",
    "            pred = 0\n",
    "        delta = actual - pred\n",
    "        print('actual', actual, 'pred', pred, 'delta', delta)\n",
    "        global_delta += abs(delta)\n",
    "        w[0] = w[0] + learning_rate*delta\n",
    "        w[1] = w[1] + learning_rate*delta\n",
    "    print('---------------------------------')\n",
    "    if global_delta == 0:\n",
    "        break\n",
    "    \n",
    "print(w)"
   ]
  },
  {
   "cell_type": "code",
   "execution_count": null,
   "metadata": {},
   "outputs": [],
   "source": []
  }
 ],
 "metadata": {
  "kernelspec": {
   "display_name": "Python [conda env:base] *",
   "language": "python",
   "name": "conda-base-py"
  },
  "language_info": {
   "codemirror_mode": {
    "name": "ipython",
    "version": 3
   },
   "file_extension": ".py",
   "mimetype": "text/x-python",
   "name": "python",
   "nbconvert_exporter": "python",
   "pygments_lexer": "ipython3",
   "version": "3.12.7"
  }
 },
 "nbformat": 4,
 "nbformat_minor": 2
}
